{
 "cells": [
  {
   "cell_type": "code",
   "execution_count": 2,
   "metadata": {},
   "outputs": [],
   "source": [
    "import pandas as pd"
   ]
  },
  {
   "cell_type": "code",
   "execution_count": 4,
   "metadata": {},
   "outputs": [],
   "source": [
    "sd = pd.read_csv('../data/scoobydoo.csv')"
   ]
  },
  {
   "cell_type": "code",
   "execution_count": 10,
   "metadata": {
    "scrolled": true
   },
   "outputs": [
    {
     "name": "stdout",
     "output_type": "stream",
     "text": [
      "<class 'pandas.core.frame.DataFrame'>\n",
      "RangeIndex: 603 entries, 0 to 602\n",
      "Data columns (total 75 columns):\n",
      " #   Column                    Non-Null Count  Dtype  \n",
      "---  ------                    --------------  -----  \n",
      " 0   index                     603 non-null    int64  \n",
      " 1   series_name               603 non-null    object \n",
      " 2   network                   603 non-null    object \n",
      " 3   season                    603 non-null    object \n",
      " 4   title                     603 non-null    object \n",
      " 5   imdb                      588 non-null    float64\n",
      " 6   engagement                588 non-null    float64\n",
      " 7   date_aired                603 non-null    object \n",
      " 8   run_time                  603 non-null    int64  \n",
      " 9   format                    603 non-null    object \n",
      " 10  monster_name              516 non-null    object \n",
      " 11  monster_gender            516 non-null    object \n",
      " 12  monster_type              516 non-null    object \n",
      " 13  monster_subtype           515 non-null    object \n",
      " 14  monster_species           516 non-null    object \n",
      " 15  monster_real              516 non-null    object \n",
      " 16  monster_amount            603 non-null    int64  \n",
      " 17  caught_fred               384 non-null    object \n",
      " 18  caught_daphnie            438 non-null    object \n",
      " 19  caught_velma              385 non-null    object \n",
      " 20  caught_shaggy             571 non-null    object \n",
      " 21  caught_scooby             575 non-null    object \n",
      " 22  captured_fred             384 non-null    object \n",
      " 23  captured_daphnie          438 non-null    object \n",
      " 24  captured_velma            385 non-null    object \n",
      " 25  captured_shaggy           571 non-null    object \n",
      " 26  captured_scooby           575 non-null    object \n",
      " 27  unmask_fred               384 non-null    object \n",
      " 28  unmask_daphnie            438 non-null    object \n",
      " 29  unmask_velma              385 non-null    object \n",
      " 30  unmask_shaggy             571 non-null    object \n",
      " 31  unmask_scooby             575 non-null    object \n",
      " 32  snack_fred                384 non-null    object \n",
      " 33  snack_daphnie             438 non-null    object \n",
      " 34  snack_velma               385 non-null    object \n",
      " 35  snack_shaggy              572 non-null    object \n",
      " 36  snack_scooby              576 non-null    object \n",
      " 37  unmask_other              603 non-null    bool   \n",
      " 38  caught_other              603 non-null    bool   \n",
      " 39  caught_not                603 non-null    bool   \n",
      " 40  trap_work_first           249 non-null    object \n",
      " 41  setting_terrain           603 non-null    object \n",
      " 42  setting_country_state     603 non-null    object \n",
      " 43  suspects_amount           603 non-null    int64  \n",
      " 44  non_suspect               443 non-null    object \n",
      " 45  arrested                  448 non-null    object \n",
      " 46  culprit_name              440 non-null    object \n",
      " 47  culprit_gender            440 non-null    object \n",
      " 48  culprit_amount            603 non-null    int64  \n",
      " 49  motive                    536 non-null    object \n",
      " 50  if_it_wasnt_for           189 non-null    object \n",
      " 51  and_that                  75 non-null     object \n",
      " 52  door_gag                  603 non-null    bool   \n",
      " 53  number_of_snacks          602 non-null    object \n",
      " 54  split_up                  384 non-null    float64\n",
      " 55  another_mystery           384 non-null    float64\n",
      " 56  set_a_trap                384 non-null    float64\n",
      " 57  jeepers                   438 non-null    float64\n",
      " 58  jinkies                   385 non-null    float64\n",
      " 59  my_glasses                385 non-null    float64\n",
      " 60  just_about_wrapped_up     385 non-null    float64\n",
      " 61  zoinks                    571 non-null    float64\n",
      " 62  groovy                    571 non-null    float64\n",
      " 63  scooby_doo_where_are_you  571 non-null    float64\n",
      " 64  rooby_rooby_roo           575 non-null    float64\n",
      " 65  batman                    603 non-null    bool   \n",
      " 66  scooby_dum                603 non-null    bool   \n",
      " 67  scrappy_doo               603 non-null    bool   \n",
      " 68  hex_girls                 603 non-null    bool   \n",
      " 69  blue_falcon               603 non-null    bool   \n",
      " 70  fred_va                   384 non-null    object \n",
      " 71  daphnie_va                438 non-null    object \n",
      " 72  velma_va                  385 non-null    object \n",
      " 73  shaggy_va                 571 non-null    object \n",
      " 74  scooby_va                 575 non-null    object \n",
      "dtypes: bool(9), float64(13), int64(5), object(48)\n",
      "memory usage: 316.3+ KB\n"
     ]
    }
   ],
   "source": [
    "sd.info()"
   ]
  },
  {
   "cell_type": "markdown",
   "metadata": {},
   "source": [
    "# Usefulness of each member"
   ]
  },
  {
   "cell_type": "code",
   "execution_count": 41,
   "metadata": {},
   "outputs": [],
   "source": [
    "gang = ['fred','daphnie','velma','shaggy','scooby']"
   ]
  },
  {
   "cell_type": "code",
   "execution_count": 42,
   "metadata": {},
   "outputs": [],
   "source": [
    "# one of the gang is captured by the monster\n",
    "captures = ['captured_' + gang[i] for i in range(len(gang)) ]\n",
    "\n",
    "# one of the gang catches the monster\n",
    "caught = ['caught' + gang[i] for i in range(len(gang)) ]\n",
    "\n",
    "# one of the gang unmasks the monster\n",
    "unmasks = ['unmask_' + gang[i] for i in range(len(gang)) ]"
   ]
  },
  {
   "cell_type": "code",
   "execution_count": 43,
   "metadata": {},
   "outputs": [
    {
     "data": {
      "text/plain": [
       "438"
      ]
     },
     "execution_count": 43,
     "metadata": {},
     "output_type": "execute_result"
    }
   ],
   "source": [
    "sd[captures[1]].count()"
   ]
  },
  {
   "cell_type": "markdown",
   "metadata": {},
   "source": [
    "#### How many times each character was captured by the monster"
   ]
  },
  {
   "cell_type": "code",
   "execution_count": 61,
   "metadata": {},
   "outputs": [
    {
     "data": {
      "text/plain": [
       "['fred: 384', 'daphnie: 438', 'velma: 385', 'shaggy: 571', 'scooby: 575']"
      ]
     },
     "execution_count": 61,
     "metadata": {},
     "output_type": "execute_result"
    }
   ],
   "source": [
    "captured = [(gang[i] + ': ' + (str(sd[captures[i]].count()))) \n",
    "            for i in range(len(captures))]\n",
    "captured"
   ]
  },
  {
   "cell_type": "markdown",
   "metadata": {},
   "source": [
    "#### How many times each character caught a monster"
   ]
  },
  {
   "cell_type": "code",
   "execution_count": null,
   "metadata": {},
   "outputs": [],
   "source": []
  },
  {
   "cell_type": "code",
   "execution_count": null,
   "metadata": {},
   "outputs": [],
   "source": []
  },
  {
   "cell_type": "code",
   "execution_count": null,
   "metadata": {},
   "outputs": [],
   "source": []
  },
  {
   "cell_type": "code",
   "execution_count": null,
   "metadata": {},
   "outputs": [],
   "source": []
  },
  {
   "cell_type": "code",
   "execution_count": null,
   "metadata": {},
   "outputs": [],
   "source": []
  }
 ],
 "metadata": {
  "kernelspec": {
   "display_name": "Python 3",
   "language": "python",
   "name": "python3"
  },
  "language_info": {
   "codemirror_mode": {
    "name": "ipython",
    "version": 3
   },
   "file_extension": ".py",
   "mimetype": "text/x-python",
   "name": "python",
   "nbconvert_exporter": "python",
   "pygments_lexer": "ipython3",
   "version": "3.8.3"
  }
 },
 "nbformat": 4,
 "nbformat_minor": 4
}
